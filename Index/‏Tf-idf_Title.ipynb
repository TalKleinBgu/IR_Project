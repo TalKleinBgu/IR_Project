{
 "cells": [
  {
   "cell_type": "code",
   "execution_count": null,
   "metadata": {},
   "outputs": [],
   "source": []
  },
  {
   "cell_type": "markdown",
   "metadata": {},
   "source": [
    "## **Imports & Setup**"
   ]
  },
  {
   "cell_type": "code",
   "execution_count": null,
   "metadata": {},
   "outputs": [],
   "source": [
    "# if the following command generates an error, you probably didn't enable\n",
    "# the cluster security option \"Allow API access to all Google Cloud services\"\n",
    "# under Manage Security → Project Access when setting up the cluster\n",
    "!gcloud dataproc clusters list --region us-central1"
   ]
  },
  {
   "cell_type": "code",
   "execution_count": null,
   "metadata": {},
   "outputs": [],
   "source": [
    "!pip install -q google-cloud-storage==1.43.0\n",
    "!pip install -q graphframes"
   ]
  },
  {
   "cell_type": "code",
   "execution_count": null,
   "metadata": {},
   "outputs": [],
   "source": [
    "import pyspark\n",
    "import sys\n",
    "from collections import Counter, OrderedDict, defaultdict\n",
    "import itertools\n",
    "from itertools import islice, count, groupby\n",
    "import pandas as pd\n",
    "import os\n",
    "import re\n",
    "from operator import itemgetter\n",
    "import nltk\n",
    "from nltk.stem.porter import *\n",
    "from nltk.corpus import stopwords\n",
    "from time import time\n",
    "from pathlib import Path\n",
    "import pickle\n",
    "import pandas as pd\n",
    "from google.cloud import storage\n",
    "import math\n",
    "from nltk.stem import WordNetLemmatizer\n",
    "import builtins\n",
    "import numpy as np\n",
    "from nltk.tokenize import word_tokenize\n",
    "\n",
    "import hashlib\n",
    "def _hash(s):\n",
    "    return hashlib.blake2b(bytes(s, encoding='utf8'), digest_size=5).hexdigest()\n",
    "\n",
    "nltk.download('stopwords')\n",
    "nltk.download('wordnet')\n",
    "\n"
   ]
  },
  {
   "cell_type": "code",
   "execution_count": null,
   "metadata": {},
   "outputs": [],
   "source": [
    "from pyspark.sql import *\n",
    "from pyspark.sql.functions import *\n",
    "from pyspark import SparkContext, SparkConf, SparkFiles\n",
    "from pyspark.sql import SQLContext\n",
    "from graphframes import *"
   ]
  },
  {
   "cell_type": "code",
   "execution_count": null,
   "metadata": {},
   "outputs": [],
   "source": [
    "bucket_name = '209234103_final'\n",
    "full_path = f\"gs://{bucket_name}/\"\n",
    "paths=[]\n",
    "\n",
    "client = storage.Client()\n",
    "blobs = client.list_blobs(bucket_name)\n",
    "for b in blobs:\n",
    "    if \"multistream\" in b.name:\n",
    "        paths.append(full_path+b.name)"
   ]
  },
  {
   "cell_type": "code",
   "execution_count": null,
   "metadata": {},
   "outputs": [
    {
     "name": "stderr",
     "output_type": "stream",
     "text": [
      "                                                                                \r"
     ]
    }
   ],
   "source": [
    "parquetFile = spark.read.parquet(*paths)"
   ]
  },
  {
   "cell_type": "code",
   "execution_count": null,
   "metadata": {},
   "outputs": [
    {
     "name": "stdout",
     "output_type": "stream",
     "text": [
      "inverted_index_gcp.py\r\n"
     ]
    }
   ],
   "source": [
    "# if nothing prints here you forgot to upload the file inverted_index_gcp.py to the home dir\n",
    "%cd -q /home/dataproc\n",
    "!ls inverted_index_gcp.py"
   ]
  },
  {
   "cell_type": "code",
   "execution_count": null,
   "metadata": {},
   "outputs": [],
   "source": [
    "# adding our python module to the cluster\n",
    "sc.addFile(\"/home/dataproc/inverted_index_gcp.py\")\n",
    "sys.path.insert(0,SparkFiles.getRootDirectory())"
   ]
  },
  {
   "cell_type": "code",
   "execution_count": null,
   "metadata": {},
   "outputs": [],
   "source": [
    "from inverted_index_gcp import InvertedIndex"
   ]
  },
  {
   "cell_type": "markdown",
   "metadata": {},
   "source": [
    "## **Set Data**"
   ]
  },
  {
   "cell_type": "code",
   "execution_count": null,
   "metadata": {},
   "outputs": [],
   "source": [
    "Body = parquetFile.select(\"text\", \"id\").rdd\n",
    "Title = parquetFile.select(\"title\", \"id\").rdd\n",
    "Pages_Links = parquetFile.select(\"id\",\"anchor_text\").rdd"
   ]
  },
  {
   "cell_type": "markdown",
   "metadata": {},
   "source": [
    "## **tokenize**"
   ]
  },
  {
   "cell_type": "code",
   "execution_count": null,
   "metadata": {},
   "outputs": [],
   "source": [
    "# Function to get the HTML pattern\n",
    "def get_html_pattern():\n",
    "    return r\"<[^>]+>\"\n",
    "# Function to get the date pattern\n",
    "def get_date_pattern():\n",
    "    return r\"(?:Jan(?:uary)?|Mar(?:ch)?|May|Jul(?:y)?|Aug(?:ust)?|Oct(?:ober)|Dec(?:ember)?)\\s(?:0[1-9]|1[0-9]|2[0-9]|3[01]|[1-9]),\\s\\d{4}|(?:Apr(?:il)?|Jun(?:e)?|Sep(?:tember)?|Nov(?:ember)?)\\s(?:0[1-9]|1[0-9]|2[0-9]|3[0]|[1-9]),\\s\\d{4}|(?:Feb(?:ruary)?)\\s(?:0[1-9]|1[0-9]|2[0-9]|[1-9]),\\s\\d{4}|(?:0[1-9]|1[0-9]|2[0-9]|3[01]|[1-9])\\s(?:Jan(?:uary)?|Mar(?:ch)?|May|Jul(?:y)?|Aug(?:ust)?|Oct(?:ober)|Dec(?:ember)?),\\s\\d{4}|(?:0[1-9]|1[0-9]|2[0-9]|3[01]|[1-9])\\s(?:Jan(?:uary)?|Mar(?:ch)?|May|Jul(?:y)?|Aug(?:ust)?|Oct(?:ober)|Dec(?:ember)?)\\s\\d{4}|(?:0[1-9]|1[0-9]|2[0-9]|3[0]|[1-9])\\s(?:Apr(?:il)?|Jun(?:e)?|Sep(?:tember)?|Nov(?:ember)?)\\s\\d{4}|(?:0[1-9]|1[0-9]|2[0-9]|[1-9])\\s(?:Feb(?:ruary)?)\\s\\d{4}\"\n",
    "\n",
    "# Function to get the time pattern\n",
    "def get_time_pattern():\n",
    "    return r\"((?:[0-1]\\d[0-5]\\d|[2][0-4][0-5]\\d|[0-1]\\d\\.[0-5]\\d|[2][0-4]\\.[0-5]\\d)(?:[APM]{2}|[apm.]{4}))|(\\b(?:[0-1]\\d|[2][0-4]|\\d{1})(?::[0-5]\\d){2}\\b)\"\n",
    "\n",
    "# Function to get the percent pattern\n",
    "def get_percent_pattern():\n",
    "    return r\"\\d+(\\.\\d+)?%\"\n",
    "\n",
    "# Function to get the number pattern\n",
    "def get_number_pattern():\n",
    "    return r\"(?:(?<=[\\s\\(])|^)[+-]?(?:(?:\\d+(?:,\\d{3})*(?:\\.\\d+)?)\\b|\\(\\d+\\))(?=[\\s,:).]|$)\"\n",
    "\n",
    "# Function to get the word pattern\n",
    "def get_word_pattern():\n",
    "    return r\"\\b(?<![-,:=\\+\\$\\w])\\d?[A-Za-z\\'-]+\"\n",
    "\n",
    "RE_TOKENIZE = re.compile(rf\"\"\"\n",
    "(\n",
    "    # parsing html tags\n",
    "     (?P<HTMLTAG>{get_html_pattern()})\n",
    "    # dates\n",
    "    |(?P<DATE>{get_date_pattern()})\n",
    "    # time\n",
    "    |(?P<TIME>{get_time_pattern()})\n",
    "    # Percents\n",
    "    |(?P<PERCENT>{get_percent_pattern()})\n",
    "    # Numbers\n",
    "    |(?P<NUMBER>{get_number_pattern()})\n",
    "    # Words\n",
    "    |(?P<WORD>{get_word_pattern()})\n",
    "    # space\n",
    "    |(?P<SPACE>[\\s\\t\\n]+)\n",
    "    # everything else\n",
    "    |(?P<OTHER>.))\"\"\",  re.MULTILINE | re.IGNORECASE | re.VERBOSE | re.UNICODE)"
   ]
  },
  {
   "cell_type": "code",
   "execution_count": null,
   "metadata": {},
   "outputs": [],
   "source": [
    "english_stopwords = frozenset(stopwords.words('english'))\n",
    "corpus_stopwords = [\"category\", \"references\", \"also\", \"external\", \"links\",\n",
    "                    \"may\", \"first\", \"see\", \"history\", \"people\", \"one\", \"two\",\n",
    "                    \"part\", \"thumb\", \"including\", \"second\", \"following\",\n",
    "                    \"many\", \"however\", \"would\", \"became\"]\n",
    "\n",
    "all_stopwords = english_stopwords.union(corpus_stopwords)\n",
    "RE_WORD = re.compile(r\"\"\"[\\#\\@\\w](['\\-]?\\w)\"\"\", re.UNICODE)\n",
    "\n",
    "NUM_BUCKETS = 124\n",
    "def token2bucket_id(token):\n",
    "    return int(_hash(token),16) % NUM_BUCKETS"
   ]
  },
  {
   "cell_type": "code",
   "execution_count": null,
   "metadata": {},
   "outputs": [],
   "source": [
    "def tokenize(text):\n",
    "\n",
    "    tokens = [token.group() for token in RE_WORD.finditer(text.lower())]\n",
    "    tokens = ' '.join(tokens)\n",
    "    tokens = [v for match in RE_TOKENIZE.finditer(tokens)\n",
    "                 for k, v in match.groupdict().items()\n",
    "                 if v is not None and k in ['WORD','NUMBER']]\n",
    "\n",
    "    tokens = [token for token in tokens if token not in all_stopwords]\n",
    "\n",
    "    return tokens"
   ]
  },
  {
   "cell_type": "code",
   "execution_count": null,
   "metadata": {},
   "outputs": [],
   "source": [
    "def tokenize_stemmer(text):\n",
    "\n",
    "    tokens = [token.group() for token in RE_WORD.finditer(text.lower())]\n",
    "    tokens = ' '.join(tokens)\n",
    "    tokens = [v for match in RE_TOKENIZE.finditer(tokens)\n",
    "                 for k, v in match.groupdict().items()\n",
    "                 if v is not None and k in ['WORD','NUMBER']]\n",
    "\n",
    "    tokens = [token for token in tokens if token not in all_stopwords]\n",
    "\n",
    "    stemmer = PorterStemmer()\n",
    "    tokens = [stemmer.stem(token) for token in tokens]\n",
    "\n",
    "    return tokens"
   ]
  },
  {
   "cell_type": "code",
   "execution_count": null,
   "metadata": {},
   "outputs": [],
   "source": [
    "def tokenize_lemmatization(text):\n",
    "    \n",
    "    tokens = [token.group() for token in RE_WORD.finditer(text.lower())]\n",
    "    tokens = ' '.join(tokens)\n",
    "    tokens = [v for match in RE_TOKENIZE.finditer(tokens)\n",
    "                 for k, v in match.groupdict().items()\n",
    "                 if v is not None and k in ['WORD','NUMBER']]\n",
    "\n",
    "    tokens = [token for token in tokens if token not in all_stopwords]\n",
    "    lemmatizer = WordNetLemmatizer()\n",
    "    tokens = [lemmatizer.lemmatize(token) for token in tokens]\n",
    "\n",
    "    return tokens"
   ]
  },
  {
   "cell_type": "markdown",
   "metadata": {},
   "source": [
    "## **functions**"
   ]
  },
  {
   "cell_type": "markdown",
   "metadata": {},
   "source": [
    "### word count:"
   ]
  },
  {
   "cell_type": "code",
   "execution_count": null,
   "metadata": {},
   "outputs": [],
   "source": [
    "def word_count(text, id):\n",
    "    ''' Count the frequency of each word in `text` (tf) that is not included in\n",
    "  `all_stopwords` and return entries that will go into our posting lists.\n",
    "  Parameters:\n",
    "  -----------\n",
    "    text: str\n",
    "      Text of one document\n",
    "    id: int\n",
    "      Document id\n",
    "  Returns:\n",
    "  --------\n",
    "    List of tuples\n",
    "      A list of (token, (doc_id, tf)) pairs\n",
    "      for example: [(\"Anarchism\", (12, 5)), ...]\n",
    "  '''\n",
    "\n",
    "    tokens = tokenize(text)\n",
    "\n",
    "    # Calculate term frequency (tf)\n",
    "    tf_counts = Counter(tokens)\n",
    "\n",
    "    # Create a list of tuples in the form (token, (doc_id, tf))\n",
    "    result = [(token, (id, tf)) for token, tf in tf_counts.items()]\n",
    "\n",
    "    # Return the list of token count tuples\n",
    "    return result"
   ]
  },
  {
   "cell_type": "code",
   "execution_count": null,
   "metadata": {},
   "outputs": [],
   "source": [
    "def word_count_stemmer(text, id):\n",
    "    ''' Count the frequency of each word in `text` (tf) that is not included in\n",
    "  `all_stopwords` and return entries that will go into our posting lists.\n",
    "  Parameters:\n",
    "  -----------\n",
    "    text: str\n",
    "      Text of one document\n",
    "    id: int\n",
    "      Document id\n",
    "  Returns:\n",
    "  --------\n",
    "    List of tuples\n",
    "      A list of (token, (doc_id, tf)) pairs\n",
    "      for example: [(\"Anarchism\", (12, 5)), ...]\n",
    "  '''\n",
    "\n",
    "    tokens = tokenize_stemmer(text)\n",
    "\n",
    "    # Calculate term frequency (tf)\n",
    "    tf_counts = Counter(tokens)\n",
    "\n",
    "    # Create a list of tuples in the form (token, (doc_id, tf))\n",
    "    result = [(token, (id, tf)) for token, tf in tf_counts.items()]\n",
    "\n",
    "    # Return the list of token count tuples\n",
    "    return result"
   ]
  },
  {
   "cell_type": "code",
   "execution_count": null,
   "metadata": {},
   "outputs": [],
   "source": [
    "def word_count_lemmatization(text, id):\n",
    "    ''' Count the frequency of each word in `text` (tf) that is not included in\n",
    "  `all_stopwords` and return entries that will go into our posting lists.\n",
    "  Parameters:\n",
    "  -----------\n",
    "    text: str\n",
    "      Text of one document\n",
    "    id: int\n",
    "      Document id\n",
    "  Returns:\n",
    "  --------\n",
    "    List of tuples\n",
    "      A list of (token, (doc_id, tf)) pairs\n",
    "      for example: [(\"Anarchism\", (12, 5)), ...]\n",
    "  '''\n",
    "\n",
    "    tokens = tokenize_lemmatization(text)\n",
    "\n",
    "    # Calculate term frequency (tf)\n",
    "    tf_counts = Counter(tokens)\n",
    "\n",
    "    # Create a list of tuples in the form (token, (doc_id, tf))\n",
    "    result = [(token, (id, tf)) for token, tf in tf_counts.items()]\n",
    "\n",
    "    # Return the list of token count tuples\n",
    "    return result"
   ]
  },
  {
   "cell_type": "markdown",
   "metadata": {},
   "source": [
    "### reduce_word_counts"
   ]
  },
  {
   "cell_type": "code",
   "execution_count": null,
   "metadata": {},
   "outputs": [],
   "source": [
    "def reduce_word_counts(unsorted_pl):\n",
    "    ''' Returns a sorted posting list by wiki_id.\n",
    "  Parameters:\n",
    "  -----------\n",
    "    unsorted_pl: list of tuples\n",
    "      A list of (wiki_id, tf) tuples\n",
    "  Returns:\n",
    "  --------\n",
    "    list of tuples\n",
    "      A sorted posting list.\n",
    "  '''\n",
    "    # Sort the list of tuples by the first element (wiki_id)\n",
    "    sorted_pl = sorted(unsorted_pl, key=lambda x: x[0])\n",
    "\n",
    "    return sorted_pl"
   ]
  },
  {
   "cell_type": "markdown",
   "metadata": {},
   "source": [
    "### calculate df:"
   ]
  },
  {
   "cell_type": "code",
   "execution_count": null,
   "metadata": {},
   "outputs": [],
   "source": [
    "def calculate_df(postings):\n",
    "    ''' Takes a posting list RDD and calculate the df for each token.\n",
    "  Parameters:\n",
    "  -----------\n",
    "    postings: RDD\n",
    "      An RDD where each element is a (token, posting_list) pair.\n",
    "  Returns:\n",
    "  --------\n",
    "    RDD\n",
    "      An RDD where each element is a (token, df) pair.\n",
    "  '''\n",
    "    # Count the number of documents for each token\n",
    "    df_rdd = postings.mapValues(lambda x : len(x))\n",
    "\n",
    "    return df_rdd"
   ]
  },
  {
   "cell_type": "markdown",
   "metadata": {},
   "source": [
    "### Partition postings and write:"
   ]
  },
  {
   "cell_type": "code",
   "execution_count": null,
   "metadata": {},
   "outputs": [],
   "source": [
    "def partition_postings_and_write(postings, base_dir, bucket_name):\n",
    "    ''' A function that partitions the posting lists into buckets, writes out\n",
    "    all posting lists in a bucket to disk, and returns the posting locations for\n",
    "    each bucket. Partitioning should be done through the use of `token2bucket`\n",
    "    above. Writing to disk should use the function  `write_a_posting_list`, a\n",
    "    static method implemented in inverted_index_colab.py under the InvertedIndex\n",
    "    class.\n",
    "    Parameters:\n",
    "    -----------\n",
    "      postings: RDD\n",
    "        An RDD where each item is a (w, posting_list) pair.\n",
    "    Returns:\n",
    "    --------\n",
    "      RDD\n",
    "        An RDD where each item is a posting locations dictionary for a bucket. The\n",
    "        posting locations maintain a list for each word of file locations and\n",
    "        offsets its posting list was written to. See `write_a_posting_list` for\n",
    "        more details.\n",
    "    '''\n",
    "\n",
    "    # Map each posting to its bucket\n",
    "    postings = postings.map(lambda x: (token2bucket_id(x[0]), x)).groupByKey()\n",
    "\n",
    "    # Group postings by bucket and write posting lists to disk\n",
    "    posting_locations = postings.map(lambda x : InvertedIndex.write_a_posting_list(x, base_dir, bucket_name))\n",
    "    return posting_locations"
   ]
  },
  {
   "cell_type": "markdown",
   "metadata": {},
   "source": [
    "### calc_tf_idf"
   ]
  },
  {
   "cell_type": "code",
   "execution_count": null,
   "metadata": {},
   "outputs": [],
   "source": [
    "def calc_tf_idf(tf, df, N, doc_len):\n",
    "    tf_idf = (tf / doc_len) * math.log(N / df,2)\n",
    "    return tf_idf"
   ]
  },
  {
   "cell_type": "markdown",
   "metadata": {},
   "source": [
    "## **Inverted Index Title**"
   ]
  },
  {
   "cell_type": "code",
   "execution_count": null,
   "metadata": {},
   "outputs": [],
   "source": [
    "def Inverted_Index_Title(title, base_dir, bucket_name, folder, index):\n",
    "    # word counts map\n",
    "    word_counts = title.flatMap(lambda x: word_count(x[0], x[1]))\n",
    "    postings = word_counts.groupByKey().mapValues(reduce_word_counts)\n",
    "\n",
    "    # filtering postings and calculate df\n",
    "    w2df = calculate_df(postings)\n",
    "    w2df_dict = w2df.collectAsMap()\n",
    "    \n",
    "    # partition posting lists and write out\n",
    "    _ = partition_postings_and_write(postings, base_dir, bucket_name).collect()\n",
    "\n",
    "    # collect all posting lists locations into one super-set\n",
    "    super_posting_locs = defaultdict(list)\n",
    "    for blob in client.list_blobs(bucket_name, prefix=base_dir):\n",
    "        if not blob.name.endswith(\"pickle\"):\n",
    "            continue\n",
    "        with blob.open(\"rb\") as f:\n",
    "            posting_locs = pickle.load(f)\n",
    "        for k, v in posting_locs.items():\n",
    "            super_posting_locs[k].extend(v)\n",
    "\n",
    "    # Create inverted index instance\n",
    "    title_index = InvertedIndex()\n",
    "    # Adding the posting locations dictionary to the inverted index\n",
    "    title_index.posting_locs = super_posting_locs\n",
    "\n",
    "    # Term Frequency Calculation for Document\n",
    "    tf_doc = postings.flatMap(lambda term: [(doc_id, (term[0], frequency)) for doc_id, frequency in term[1]]).groupByKey().mapValues(list)\n",
    "    \n",
    "    # Document Length Calculation\n",
    "    doc_len = tf_doc.map(lambda doc_id: (doc_id[0], np.sum(frequency for _, frequency in doc_id[1]))).collectAsMap()\n",
    "\n",
    "    # Add the token - df dictionary to the inverted index\n",
    "    title_index.df = w2df_dict\n",
    "    title_index.doc_len = doc_len\n",
    "    title_index.N= title.count()\n",
    "\n",
    "    tf_idf = tf_doc.flatMap(lambda doc_id: [(doc_id[0],calc_tf_idf(frequency, title_index.df[term], title_index.N , title_index.doc_len[doc_id[0]])) for term, frequency in doc_id[1]]).groupByKey()\n",
    "    tf_idf_res = tf_idf.map(lambda doc_id: (doc_id[0],np.sum(math.pow(tf_idf,2) for tf_idf in doc_id[1]))).collectAsMap()\n",
    "    idf = {term: math.log(title_index.N / tf, 2) for term, tf in w2df_dict.items()}\n",
    "    \n",
    "    title_index.weights_square = tf_idf_res \n",
    "    title_index.idf = idf\n",
    "\n",
    "    # write the global stats out\n",
    "    title_index.write_index('.', index)\n",
    "\n",
    "    # upload to gs\n",
    "    index_src = f'{index}.pkl'\n",
    "    index_dst = f'gs://{bucket_name}/{folder}/{index_src}'\n",
    "    !gsutil cp $index_src $index_dst\n",
    "    !gsutil ls -lh $index_dst\n"
   ]
  },
  {
   "cell_type": "code",
   "execution_count": null,
   "metadata": {},
   "outputs": [],
   "source": [
    "Inverted_Index_Title(Title,\"Title_no_stem\",bucket_name,\"Title_no_stem\", \"Title_no_stem_index\")"
   ]
  },
  {
   "cell_type": "markdown",
   "metadata": {},
   "source": [
    "## **Inverted Index Title Stemmer**"
   ]
  },
  {
   "cell_type": "code",
   "execution_count": null,
   "metadata": {},
   "outputs": [],
   "source": [
    "def Inverted_Index_Title_stemmer(title, base_dir, bucket_name, folder, index):\n",
    "    # word counts map\n",
    "    word_counts = title.flatMap(lambda x: word_count_stemmer(x[0], x[1]))\n",
    "    postings = word_counts.groupByKey().mapValues(reduce_word_counts)\n",
    "\n",
    "    # filtering postings and calculate df\n",
    "    w2df = calculate_df(postings)\n",
    "    w2df_dict = w2df.collectAsMap()\n",
    "    \n",
    "    # partition posting lists and write out\n",
    "    _ = partition_postings_and_write(postings, base_dir, bucket_name).collect()\n",
    "\n",
    "    # collect all posting lists locations into one super-set\n",
    "    super_posting_locs = defaultdict(list)\n",
    "    for blob in client.list_blobs(bucket_name, prefix=base_dir):\n",
    "        if not blob.name.endswith(\"pickle\"):\n",
    "            continue\n",
    "        with blob.open(\"rb\") as f:\n",
    "            posting_locs = pickle.load(f)\n",
    "        for k, v in posting_locs.items():\n",
    "            super_posting_locs[k].extend(v)\n",
    "\n",
    "    # Create inverted index instance\n",
    "    title_index = InvertedIndex()\n",
    "    # Adding the posting locations dictionary to the inverted index\n",
    "    title_index.posting_locs = super_posting_locs\n",
    "\n",
    "    # Term Frequency Calculation for Document\n",
    "    tf_doc = postings.flatMap(lambda term: [(doc_id, (term[0], frequency)) for doc_id, frequency in term[1]]).groupByKey().mapValues(list)\n",
    "    \n",
    "    # Document Length Calculation\n",
    "    doc_len = tf_doc.map(lambda doc_id: (doc_id[0], np.sum(frequency for _, frequency in doc_id[1]))).collectAsMap()\n",
    "\n",
    "    # Add the token - df dictionary to the inverted index\n",
    "    title_index.df = w2df_dict\n",
    "    title_index.doc_len = doc_len\n",
    "    title_index.N= title.count()\n",
    "\n",
    "    tf_idf = tf_doc.flatMap(lambda doc_id: [(doc_id[0],calc_tf_idf(frequency, title_index.df[term], title_index.N , title_index.doc_len[doc_id[0]])) for term, frequency in doc_id[1]]).groupByKey()\n",
    "    tf_idf_res = tf_idf.map(lambda doc_id: (doc_id[0],np.sum(math.pow(tf_idf,2) for tf_idf in doc_id[1]))).collectAsMap()\n",
    "    idf = {term: math.log(title_index.N / tf, 2) for term, tf in w2df_dict.items()}\n",
    "    \n",
    "    title_index.weights_square = tf_idf_res \n",
    "    title_index.idf = idf\n",
    "\n",
    "    # write the global stats out\n",
    "    title_index.write_index('.', index)\n",
    "\n",
    "    # upload to gs\n",
    "    index_src = f'{index}.pkl'\n",
    "    index_dst = f'gs://{bucket_name}/{folder}/{index_src}'\n",
    "    !gsutil cp $index_src $index_dst\n",
    "    !gsutil ls -lh $index_dst\n"
   ]
  },
  {
   "cell_type": "code",
   "execution_count": null,
   "metadata": {},
   "outputs": [],
   "source": [
    "Inverted_Index_Title_stemmer(Title,\"Title\",bucket_name,\"Title\", \"Title_index\")"
   ]
  },
  {
   "cell_type": "markdown",
   "metadata": {},
   "source": [
    "## **Inverted Index Title lemmatization**"
   ]
  },
  {
   "cell_type": "code",
   "execution_count": null,
   "metadata": {},
   "outputs": [],
   "source": [
    "def Inverted_Index_Title_lemmatization(title, base_dir, bucket_name, folder, index):\n",
    "    # word counts map\n",
    "    word_counts = title.flatMap(lambda x: word_count_lemmatization(x[0], x[1]))\n",
    "    postings = word_counts.groupByKey().mapValues(reduce_word_counts)\n",
    "\n",
    "    # filtering postings and calculate df\n",
    "    w2df = calculate_df(postings)\n",
    "    w2df_dict = w2df.collectAsMap()\n",
    "    \n",
    "    # partition posting lists and write out\n",
    "    _ = partition_postings_and_write(postings, base_dir, bucket_name).collect()\n",
    "\n",
    "    # collect all posting lists locations into one super-set\n",
    "    super_posting_locs = defaultdict(list)\n",
    "    for blob in client.list_blobs(bucket_name, prefix=base_dir):\n",
    "        if not blob.name.endswith(\"pickle\"):\n",
    "            continue\n",
    "        with blob.open(\"rb\") as f:\n",
    "            posting_locs = pickle.load(f)\n",
    "        for k, v in posting_locs.items():\n",
    "            super_posting_locs[k].extend(v)\n",
    "\n",
    "    # Create inverted index instance\n",
    "    title_index = InvertedIndex()\n",
    "    # Adding the posting locations dictionary to the inverted index\n",
    "    title_index.posting_locs = super_posting_locs\n",
    "\n",
    "    # Term Frequency Calculation for Document\n",
    "    tf_doc = postings.flatMap(lambda term: [(doc_id, (term[0], frequency)) for doc_id, frequency in term[1]]).groupByKey().mapValues(list)\n",
    "    \n",
    "    # Document Length Calculation\n",
    "    doc_len = tf_doc.map(lambda doc_id: (doc_id[0], np.sum(frequency for _, frequency in doc_id[1]))).collectAsMap()\n",
    "\n",
    "    # Add the token - df dictionary to the inverted index\n",
    "    title_index.df = w2df_dict\n",
    "    title_index.doc_len = doc_len\n",
    "    title_index.N= title.count()\n",
    "\n",
    "    tf_idf = tf_doc.flatMap(lambda doc_id: [(doc_id[0],calc_tf_idf(frequency, title_index.df[term], title_index.N , title_index.doc_len[doc_id[0]])) for term, frequency in doc_id[1]]).groupByKey()\n",
    "    tf_idf_res = tf_idf.map(lambda doc_id: (doc_id[0],np.sum(math.pow(tf_idf,2) for tf_idf in doc_id[1]))).collectAsMap()\n",
    "    idf = {term: math.log(title_index.N / tf, 2) for term, tf in w2df_dict.items()}\n",
    "    \n",
    "    title_index.weights_square = tf_idf_res \n",
    "    title_index.idf = idf\n",
    "\n",
    "    # write the global stats out\n",
    "    title_index.write_index('.', index)\n",
    "\n",
    "    # upload to gs\n",
    "    index_src = f'{index}.pkl'\n",
    "    index_dst = f'gs://{bucket_name}/{folder}/{index_src}'\n",
    "    !gsutil cp $index_src $index_dst\n",
    "    !gsutil ls -lh $index_dst\n"
   ]
  },
  {
   "cell_type": "code",
   "execution_count": null,
   "metadata": {},
   "outputs": [],
   "source": [
    "Inverted_Index_Title_lemmatization(Title,\"Title_lemm\",bucket_name,\"Title_lemm\", \"Title_lemm_index\")"
   ]
  }
 ],
 "metadata": {
  "language_info": {
   "name": "python"
  }
 },
 "nbformat": 4,
 "nbformat_minor": 2
}
